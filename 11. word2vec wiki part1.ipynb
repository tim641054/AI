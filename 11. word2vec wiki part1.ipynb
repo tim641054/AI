{
  "nbformat": 4,
  "nbformat_minor": 0,
  "metadata": {
    "colab": {
      "name": "Copy of Welcome To Colaboratory",
      "provenance": [],
      "collapsed_sections": []
    },
    "kernelspec": {
      "display_name": "Python 3",
      "name": "python3"
    }
  },
  "cells": [
    {
      "cell_type": "code",
      "metadata": {
        "id": "BHvbTS20e-52",
        "colab_type": "code",
        "colab": {
          "base_uri": "https://localhost:8080/",
          "height": 768
        },
        "outputId": "64ed74b0-f260-41e5-df90-f1b813662988"
      },
      "source": [
        "!pip install opencc-python-reimplemented\n",
        "!wget https://dumps.wikimedia.org/zhwiki/20200301/zhwiki-20200301-pages-articles-multistream1.xml-p1p162886.bz2\n",
        "\n",
        "\n",
        "\n",
        "from gensim.corpora import WikiCorpus\n",
        "\n",
        "wiki_corpus = WikiCorpus('zhwiki-20200301-pages-articles-multistream1.xml-p1p162886.bz2', dictionary={})\n",
        "next(iter(wiki_corpus.get_texts()))[:10]\n",
        "\n",
        "text_num = 0\n",
        "\n",
        "with open('wiki_text.txt', 'w', encoding='utf-8') as f:\n",
        "    for text in wiki_corpus.get_texts():\n",
        "        f.write(' '.join(text)+'\\n')\n",
        "        text_num += 1\n",
        "        if text_num % 10000 == 0:\n",
        "            print('{} articles processed.'.format(text_num))\n",
        "\n",
        "    print('{} articles processed.'.format(text_num))\n",
        "\n",
        "import jieba\n",
        "from opencc import OpenCC\n",
        "\n",
        "\n",
        "# Initial\n",
        "cc = OpenCC('s2t')\n",
        "train_data = open('wiki_text.txt', 'r', encoding='utf-8').read()\n",
        "train_data = cc.convert(train_data)\n",
        "train_data = jieba.lcut(train_data)\n",
        "train_data = [word for word in train_data if word != '']\n",
        "train_data = ' '.join(train_data)\n",
        "open('seg.txt', 'w', encoding='utf-8').write(train_data)\n",
        "\n",
        "from gensim.models import word2vec\n",
        "\n",
        "\n",
        "# Settings\n",
        "seed = 666\n",
        "sg = 0\n",
        "window_size = 10\n",
        "vector_size = 100\n",
        "min_count = 1\n",
        "workers = 8\n",
        "epochs = 5\n",
        "batch_words = 10000\n",
        "\n",
        "train_data = word2vec.LineSentence('seg.txt')\n",
        "model = word2vec.Word2Vec(\n",
        "    train_data,\n",
        "    min_count=min_count,\n",
        "    size=vector_size,\n",
        "    workers=workers,\n",
        "    iter=epochs,\n",
        "    window=window_size,\n",
        "    sg=sg,\n",
        "    seed=seed,\n",
        "    batch_words=batch_words\n",
        ")\n",
        "\n",
        "model.save('word2vec.model')\n",
        "\n",
        "\n",
        "from gensim.models import word2vec\n",
        "\n",
        "string = '微生物'\n",
        "model = word2vec.Word2Vec.load('word2vec.model')\n",
        "print(string)\n",
        "\n",
        "for item in model.wv.most_similar(string):\n",
        "    print(item)"
      ],
      "execution_count": 9,
      "outputs": [
        {
          "output_type": "stream",
          "text": [
            "Collecting opencc-python-reimplemented\n",
            "\u001b[?25l  Downloading https://files.pythonhosted.org/packages/53/0c/c499c86a719c925a08586085a56f92f3235c03ee8b4db2e59c1e9aab3f55/opencc-python-reimplemented-0.1.5.tar.gz (482kB)\n",
            "\r\u001b[K     |▊                               | 10kB 17.8MB/s eta 0:00:01\r\u001b[K     |█▍                              | 20kB 1.7MB/s eta 0:00:01\r\u001b[K     |██                              | 30kB 2.5MB/s eta 0:00:01\r\u001b[K     |██▊                             | 40kB 3.3MB/s eta 0:00:01\r\u001b[K     |███▍                            | 51kB 2.1MB/s eta 0:00:01\r\u001b[K     |████                            | 61kB 2.4MB/s eta 0:00:01\r\u001b[K     |████▊                           | 71kB 2.8MB/s eta 0:00:01\r\u001b[K     |█████▍                          | 81kB 3.2MB/s eta 0:00:01\r\u001b[K     |██████                          | 92kB 2.4MB/s eta 0:00:01\r\u001b[K     |██████▉                         | 102kB 2.7MB/s eta 0:00:01\r\u001b[K     |███████▌                        | 112kB 2.7MB/s eta 0:00:01\r\u001b[K     |████████▏                       | 122kB 2.7MB/s eta 0:00:01\r\u001b[K     |████████▉                       | 133kB 2.7MB/s eta 0:00:01\r\u001b[K     |█████████▌                      | 143kB 2.7MB/s eta 0:00:01\r\u001b[K     |██████████▏                     | 153kB 2.7MB/s eta 0:00:01\r\u001b[K     |██████████▉                     | 163kB 2.7MB/s eta 0:00:01\r\u001b[K     |███████████▌                    | 174kB 2.7MB/s eta 0:00:01\r\u001b[K     |████████████▏                   | 184kB 2.7MB/s eta 0:00:01\r\u001b[K     |█████████████                   | 194kB 2.7MB/s eta 0:00:01\r\u001b[K     |█████████████▋                  | 204kB 2.7MB/s eta 0:00:01\r\u001b[K     |██████████████▎                 | 215kB 2.7MB/s eta 0:00:01\r\u001b[K     |███████████████                 | 225kB 2.7MB/s eta 0:00:01\r\u001b[K     |███████████████▋                | 235kB 2.7MB/s eta 0:00:01\r\u001b[K     |████████████████▎               | 245kB 2.7MB/s eta 0:00:01\r\u001b[K     |█████████████████               | 256kB 2.7MB/s eta 0:00:01\r\u001b[K     |█████████████████▋              | 266kB 2.7MB/s eta 0:00:01\r\u001b[K     |██████████████████▎             | 276kB 2.7MB/s eta 0:00:01\r\u001b[K     |███████████████████             | 286kB 2.7MB/s eta 0:00:01\r\u001b[K     |███████████████████▊            | 296kB 2.7MB/s eta 0:00:01\r\u001b[K     |████████████████████▍           | 307kB 2.7MB/s eta 0:00:01\r\u001b[K     |█████████████████████           | 317kB 2.7MB/s eta 0:00:01\r\u001b[K     |█████████████████████▊          | 327kB 2.7MB/s eta 0:00:01\r\u001b[K     |██████████████████████▍         | 337kB 2.7MB/s eta 0:00:01\r\u001b[K     |███████████████████████         | 348kB 2.7MB/s eta 0:00:01\r\u001b[K     |███████████████████████▊        | 358kB 2.7MB/s eta 0:00:01\r\u001b[K     |████████████████████████▍       | 368kB 2.7MB/s eta 0:00:01\r\u001b[K     |█████████████████████████       | 378kB 2.7MB/s eta 0:00:01\r\u001b[K     |█████████████████████████▉      | 389kB 2.7MB/s eta 0:00:01\r\u001b[K     |██████████████████████████▌     | 399kB 2.7MB/s eta 0:00:01\r\u001b[K     |███████████████████████████▏    | 409kB 2.7MB/s eta 0:00:01\r\u001b[K     |███████████████████████████▉    | 419kB 2.7MB/s eta 0:00:01\r\u001b[K     |████████████████████████████▌   | 430kB 2.7MB/s eta 0:00:01\r\u001b[K     |█████████████████████████████▏  | 440kB 2.7MB/s eta 0:00:01\r\u001b[K     |█████████████████████████████▉  | 450kB 2.7MB/s eta 0:00:01\r\u001b[K     |██████████████████████████████▌ | 460kB 2.7MB/s eta 0:00:01\r\u001b[K     |███████████████████████████████▏| 471kB 2.7MB/s eta 0:00:01\r\u001b[K     |████████████████████████████████| 481kB 2.7MB/s eta 0:00:01\r\u001b[K     |████████████████████████████████| 491kB 2.7MB/s \n",
            "\u001b[?25hBuilding wheels for collected packages: opencc-python-reimplemented\n",
            "  Building wheel for opencc-python-reimplemented (setup.py) ... \u001b[?25l\u001b[?25hdone\n",
            "  Created wheel for opencc-python-reimplemented: filename=opencc_python_reimplemented-0.1.5-py2.py3-none-any.whl size=485664 sha256=072b27344bf6b96abd96bffc65611cb0af7f19e65468c24ce12ceb2ab1db7fa2\n",
            "  Stored in directory: /root/.cache/pip/wheels/36/a0/10/888b9ac7f10154caaa6a73270b1f085e0a7b241baa672bbe49\n",
            "Successfully built opencc-python-reimplemented\n",
            "Installing collected packages: opencc-python-reimplemented\n",
            "Successfully installed opencc-python-reimplemented-0.1.5\n",
            "--2020-04-23 02:05:32--  https://dumps.wikimedia.org/zhwiki/20200301/zhwiki-20200301-pages-articles-multistream1.xml-p1p162886.bz2\n",
            "Resolving dumps.wikimedia.org (dumps.wikimedia.org)... 208.80.154.7, 2620:0:861:1:208:80:154:7\n",
            "Connecting to dumps.wikimedia.org (dumps.wikimedia.org)|208.80.154.7|:443... connected.\n",
            "HTTP request sent, awaiting response... 200 OK\n",
            "Length: 172586252 (165M) [application/octet-stream]\n",
            "Saving to: ‘zhwiki-20200301-pages-articles-multistream1.xml-p1p162886.bz2’\n",
            "\n",
            "zhwiki-20200301-pag 100%[===================>] 164.59M  4.38MB/s    in 38s     \n",
            "\n",
            "2020-04-23 02:06:11 (4.37 MB/s) - ‘zhwiki-20200301-pages-articles-multistream1.xml-p1p162886.bz2’ saved [172586252/172586252]\n",
            "\n",
            "10000 articles processed.\n",
            "20000 articles processed.\n",
            "27590 articles processed.\n"
          ],
          "name": "stdout"
        },
        {
          "output_type": "stream",
          "text": [
            "Building prefix dict from the default dictionary ...\n",
            "Dumping model to file cache /tmp/jieba.cache\n",
            "Loading model cost 0.906 seconds.\n",
            "Prefix dict has been built successfully.\n",
            "/usr/local/lib/python3.6/dist-packages/smart_open/smart_open_lib.py:253: UserWarning: This function is deprecated, use smart_open.open instead. See the migration notes for details: https://github.com/RaRe-Technologies/smart_open/blob/master/README.rst#migrating-to-the-new-open-function\n",
            "  'See the migration notes for details: %s' % _MIGRATION_NOTES_URL\n"
          ],
          "name": "stderr"
        },
        {
          "output_type": "stream",
          "text": [
            "微生物\n",
            "('細菌', 0.8937554359436035)\n",
            "('菌', 0.8681976795196533)\n",
            "('真菌', 0.8673009276390076)\n",
            "('代謝', 0.8653759956359863)\n",
            "('藻類', 0.8577544093132019)\n",
            "('激素', 0.8521727323532104)\n",
            "('免疫', 0.8433871269226074)\n",
            "('毒素', 0.8389098644256592)\n",
            "('放線', 0.8382962942123413)\n",
            "('古菌', 0.835290253162384)\n"
          ],
          "name": "stdout"
        },
        {
          "output_type": "stream",
          "text": [
            "/usr/local/lib/python3.6/dist-packages/gensim/matutils.py:737: FutureWarning: Conversion of the second argument of issubdtype from `int` to `np.signedinteger` is deprecated. In future, it will be treated as `np.int64 == np.dtype(int).type`.\n",
            "  if np.issubdtype(vec.dtype, np.int):\n"
          ],
          "name": "stderr"
        }
      ]
    }
  ]
}